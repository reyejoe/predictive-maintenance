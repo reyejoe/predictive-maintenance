{
 "cells": [
  {
   "cell_type": "code",
   "execution_count": 1,
   "metadata": {},
   "outputs": [],
   "source": [
    "import pandas as pd\n",
    "import numpy as np"
   ]
  },
  {
   "cell_type": "code",
   "execution_count": 17,
   "metadata": {},
   "outputs": [],
   "source": [
    "data = {'Name': ['A', 'B', 'C'], 'Start_time': ['2017-12-15', '2017-12-15', '2017-12-15'], 'End_time': ['2018-01-17', '2017-12-22', '2018-05-22']}\n",
    "df = pd.DataFrame(data)"
   ]
  },
  {
   "cell_type": "code",
   "execution_count": 3,
   "metadata": {},
   "outputs": [],
   "source": [
    "# df = df.astype({'Start_time': 'datetime64[ns]', 'End_time': 'datetime64[ns]'})"
   ]
  },
  {
   "cell_type": "code",
   "execution_count": 4,
   "metadata": {},
   "outputs": [
    {
     "data": {
      "text/plain": [
       "Name                  object\n",
       "Start_time    datetime64[ns]\n",
       "End_time      datetime64[ns]\n",
       "dtype: object"
      ]
     },
     "execution_count": 4,
     "metadata": {},
     "output_type": "execute_result"
    }
   ],
   "source": [
    "df.dtypes"
   ]
  },
  {
   "cell_type": "code",
   "execution_count": 5,
   "metadata": {},
   "outputs": [
    {
     "data": {
      "text/html": [
       "<div>\n",
       "<style scoped>\n",
       "    .dataframe tbody tr th:only-of-type {\n",
       "        vertical-align: middle;\n",
       "    }\n",
       "\n",
       "    .dataframe tbody tr th {\n",
       "        vertical-align: top;\n",
       "    }\n",
       "\n",
       "    .dataframe thead th {\n",
       "        text-align: right;\n",
       "    }\n",
       "</style>\n",
       "<table border=\"1\" class=\"dataframe\">\n",
       "  <thead>\n",
       "    <tr style=\"text-align: right;\">\n",
       "      <th></th>\n",
       "      <th>Name</th>\n",
       "      <th>Start_time</th>\n",
       "      <th>End_time</th>\n",
       "    </tr>\n",
       "  </thead>\n",
       "  <tbody>\n",
       "    <tr>\n",
       "      <th>0</th>\n",
       "      <td>A</td>\n",
       "      <td>2017-12-15</td>\n",
       "      <td>2018-01-17</td>\n",
       "    </tr>\n",
       "    <tr>\n",
       "      <th>1</th>\n",
       "      <td>B</td>\n",
       "      <td>2017-12-15</td>\n",
       "      <td>2017-12-22</td>\n",
       "    </tr>\n",
       "    <tr>\n",
       "      <th>2</th>\n",
       "      <td>C</td>\n",
       "      <td>2017-12-15</td>\n",
       "      <td>2018-05-22</td>\n",
       "    </tr>\n",
       "  </tbody>\n",
       "</table>\n",
       "</div>"
      ],
      "text/plain": [
       "  Name Start_time   End_time\n",
       "0    A 2017-12-15 2018-01-17\n",
       "1    B 2017-12-15 2017-12-22\n",
       "2    C 2017-12-15 2018-05-22"
      ]
     },
     "execution_count": 5,
     "metadata": {},
     "output_type": "execute_result"
    }
   ],
   "source": [
    "df"
   ]
  },
  {
   "cell_type": "code",
   "execution_count": 6,
   "metadata": {},
   "outputs": [],
   "source": [
    "from pandas.tseries.offsets import *\n",
    "df['LastDay'] = df['Start_time'] + MonthEnd()"
   ]
  },
  {
   "cell_type": "code",
   "execution_count": 7,
   "metadata": {},
   "outputs": [
    {
     "data": {
      "text/html": [
       "<div>\n",
       "<style scoped>\n",
       "    .dataframe tbody tr th:only-of-type {\n",
       "        vertical-align: middle;\n",
       "    }\n",
       "\n",
       "    .dataframe tbody tr th {\n",
       "        vertical-align: top;\n",
       "    }\n",
       "\n",
       "    .dataframe thead th {\n",
       "        text-align: right;\n",
       "    }\n",
       "</style>\n",
       "<table border=\"1\" class=\"dataframe\">\n",
       "  <thead>\n",
       "    <tr style=\"text-align: right;\">\n",
       "      <th></th>\n",
       "      <th>Name</th>\n",
       "      <th>Start_time</th>\n",
       "      <th>End_time</th>\n",
       "      <th>LastDay</th>\n",
       "    </tr>\n",
       "  </thead>\n",
       "  <tbody>\n",
       "    <tr>\n",
       "      <th>0</th>\n",
       "      <td>A</td>\n",
       "      <td>2017-12-15</td>\n",
       "      <td>2018-01-17</td>\n",
       "      <td>2017-12-31</td>\n",
       "    </tr>\n",
       "    <tr>\n",
       "      <th>1</th>\n",
       "      <td>B</td>\n",
       "      <td>2017-12-15</td>\n",
       "      <td>2017-12-22</td>\n",
       "      <td>2017-12-31</td>\n",
       "    </tr>\n",
       "    <tr>\n",
       "      <th>2</th>\n",
       "      <td>C</td>\n",
       "      <td>2017-12-15</td>\n",
       "      <td>2018-05-22</td>\n",
       "      <td>2017-12-31</td>\n",
       "    </tr>\n",
       "  </tbody>\n",
       "</table>\n",
       "</div>"
      ],
      "text/plain": [
       "  Name Start_time   End_time    LastDay\n",
       "0    A 2017-12-15 2018-01-17 2017-12-31\n",
       "1    B 2017-12-15 2017-12-22 2017-12-31\n",
       "2    C 2017-12-15 2018-05-22 2017-12-31"
      ]
     },
     "execution_count": 7,
     "metadata": {},
     "output_type": "execute_result"
    }
   ],
   "source": [
    "df"
   ]
  },
  {
   "cell_type": "code",
   "execution_count": 8,
   "metadata": {},
   "outputs": [
    {
     "data": {
      "text/plain": [
       "0    False\n",
       "1     True\n",
       "2    False\n",
       "dtype: bool"
      ]
     },
     "execution_count": 8,
     "metadata": {},
     "output_type": "execute_result"
    }
   ],
   "source": [
    "df.End_time <= df.LastDay "
   ]
  },
  {
   "cell_type": "code",
   "execution_count": 9,
   "metadata": {},
   "outputs": [],
   "source": [
    "dList = []\n",
    "vList = []\n",
    "d = {}\n",
    "\n",
    "def buildDict(row):   \n",
    "    for x in pd.date_range(row[\"Start_time\"],row[\"End_time\"], freq='MS'):  #build a range for each row\n",
    "        dList.append(x)  #date list\n",
    "        vList.append(row[\"Name\"]) #value list \n",
    "\n",
    "df.apply(buildDict,axis=1) #each row in df is passed to buildDict\n",
    "\n",
    "#this d will be used to create our new frame\n",
    "d[\"date\"] = dList\n",
    "d[\"value\"] = vList"
   ]
  },
  {
   "cell_type": "code",
   "execution_count": 10,
   "metadata": {},
   "outputs": [
    {
     "data": {
      "text/html": [
       "<div>\n",
       "<style scoped>\n",
       "    .dataframe tbody tr th:only-of-type {\n",
       "        vertical-align: middle;\n",
       "    }\n",
       "\n",
       "    .dataframe tbody tr th {\n",
       "        vertical-align: top;\n",
       "    }\n",
       "\n",
       "    .dataframe thead th {\n",
       "        text-align: right;\n",
       "    }\n",
       "</style>\n",
       "<table border=\"1\" class=\"dataframe\">\n",
       "  <thead>\n",
       "    <tr style=\"text-align: right;\">\n",
       "      <th></th>\n",
       "      <th>date</th>\n",
       "      <th>value</th>\n",
       "    </tr>\n",
       "  </thead>\n",
       "  <tbody>\n",
       "    <tr>\n",
       "      <th>0</th>\n",
       "      <td>2018-01-01</td>\n",
       "      <td>A</td>\n",
       "    </tr>\n",
       "    <tr>\n",
       "      <th>1</th>\n",
       "      <td>2018-01-01</td>\n",
       "      <td>C</td>\n",
       "    </tr>\n",
       "    <tr>\n",
       "      <th>2</th>\n",
       "      <td>2018-02-01</td>\n",
       "      <td>C</td>\n",
       "    </tr>\n",
       "    <tr>\n",
       "      <th>3</th>\n",
       "      <td>2018-03-01</td>\n",
       "      <td>C</td>\n",
       "    </tr>\n",
       "    <tr>\n",
       "      <th>4</th>\n",
       "      <td>2018-04-01</td>\n",
       "      <td>C</td>\n",
       "    </tr>\n",
       "    <tr>\n",
       "      <th>5</th>\n",
       "      <td>2018-05-01</td>\n",
       "      <td>C</td>\n",
       "    </tr>\n",
       "  </tbody>\n",
       "</table>\n",
       "</div>"
      ],
      "text/plain": [
       "        date value\n",
       "0 2018-01-01     A\n",
       "1 2018-01-01     C\n",
       "2 2018-02-01     C\n",
       "3 2018-03-01     C\n",
       "4 2018-04-01     C\n",
       "5 2018-05-01     C"
      ]
     },
     "execution_count": 10,
     "metadata": {},
     "output_type": "execute_result"
    }
   ],
   "source": [
    "pd.DataFrame(d)"
   ]
  },
  {
   "cell_type": "code",
   "execution_count": 11,
   "metadata": {},
   "outputs": [],
   "source": [
    "# import datetime\n",
    "\n",
    "# # borrowed from https://stackoverflow.com/a/13565185\n",
    "# # as noted there, the calendar module has a function of its own\n",
    "# def last_day_of_month(any_day):\n",
    "#     next_month = any_day.replace(day=28) + datetime.timedelta(days=4)  # this will never fail\n",
    "#     return next_month - datetime.timedelta(days=next_month.day)\n",
    "\n",
    "# begin = \"2018-02-15\"\n",
    "# end = \"2018-04-23\"\n",
    "\n",
    "# def monthlist(begin,end):\n",
    "#     begin = datetime.datetime.strptime(begin, \"%Y-%m-%d\")\n",
    "#     end = datetime.datetime.strptime(end, \"%Y-%m-%d\")\n",
    "\n",
    "#     result = []\n",
    "#     while True:\n",
    "#         if begin.month == 12:\n",
    "#             next_month = begin.replace(year=begin.year+1,month=1, day=1)\n",
    "#         else:\n",
    "#             next_month = begin.replace(month=begin.month+1, day=1)\n",
    "#         if next_month > end:\n",
    "#             break\n",
    "#         result.append ([begin.strftime(\"%Y-%m-%d\"),last_day_of_month(begin).strftime(\"%Y-%m-%d\")])\n",
    "#         begin = next_month\n",
    "#     result.append ([begin.strftime(\"%Y-%m-%d\"),end.strftime(\"%Y-%m-%d\")])\n",
    "#     return result"
   ]
  },
  {
   "cell_type": "code",
   "execution_count": 20,
   "metadata": {},
   "outputs": [],
   "source": [
    "import datetime\n",
    "\n",
    "# borrowed from https://stackoverflow.com/a/13565185\n",
    "# as noted there, the calendar module has a function of its own\n",
    "def last_day_of_month(any_day):\n",
    "    next_month = any_day.replace(day=28) + datetime.timedelta(days=4)  # this will never fail\n",
    "    return next_month - datetime.timedelta(days=next_month.day)\n",
    "\n",
    "def monthlist(row):\n",
    "    begin = datetime.datetime.strptime(row.Start_time, \"%Y-%m-%d\")\n",
    "    end = datetime.datetime.strptime(row.End_time, \"%Y-%m-%d\")\n",
    "\n",
    "    result = []\n",
    "    while True:\n",
    "        if begin.month == 12:\n",
    "            next_month = begin.replace(year=begin.year+1,month=1, day=1)\n",
    "        else:\n",
    "            next_month = begin.replace(month=begin.month+1, day=1)\n",
    "        if next_month > end:\n",
    "            break\n",
    "        result.append ([begin.strftime(\"%Y-%m-%d\"),last_day_of_month(begin).strftime(\"%Y-%m-%d\")])\n",
    "        begin = next_month\n",
    "    result.append ([begin.strftime(\"%Y-%m-%d\"),end.strftime(\"%Y-%m-%d\")])\n",
    "    return result"
   ]
  },
  {
   "cell_type": "code",
   "execution_count": 12,
   "metadata": {},
   "outputs": [
    {
     "name": "stdout",
     "output_type": "stream",
     "text": [
      "[['2018-02-15', '2018-02-28'], ['2018-03-01', '2018-03-31'], ['2018-04-01', '2018-04-23']]\n"
     ]
    }
   ],
   "source": [
    "date_list = monthlist(begin,end)\n",
    "print (date_list)"
   ]
  },
  {
   "cell_type": "code",
   "execution_count": 35,
   "metadata": {},
   "outputs": [],
   "source": [
    "split = pd.DataFrame(df.apply(monthlist, axis=1).tolist())"
   ]
  },
  {
   "cell_type": "code",
   "execution_count": 37,
   "metadata": {},
   "outputs": [
    {
     "data": {
      "text/html": [
       "<div>\n",
       "<style scoped>\n",
       "    .dataframe tbody tr th:only-of-type {\n",
       "        vertical-align: middle;\n",
       "    }\n",
       "\n",
       "    .dataframe tbody tr th {\n",
       "        vertical-align: top;\n",
       "    }\n",
       "\n",
       "    .dataframe thead th {\n",
       "        text-align: right;\n",
       "    }\n",
       "</style>\n",
       "<table border=\"1\" class=\"dataframe\">\n",
       "  <thead>\n",
       "    <tr style=\"text-align: right;\">\n",
       "      <th></th>\n",
       "      <th>0</th>\n",
       "      <th>1</th>\n",
       "      <th>2</th>\n",
       "      <th>3</th>\n",
       "      <th>4</th>\n",
       "      <th>5</th>\n",
       "    </tr>\n",
       "  </thead>\n",
       "  <tbody>\n",
       "    <tr>\n",
       "      <th>0</th>\n",
       "      <td>[2017-12-15, 2017-12-31]</td>\n",
       "      <td>[2018-01-01, 2018-01-17]</td>\n",
       "      <td>None</td>\n",
       "      <td>None</td>\n",
       "      <td>None</td>\n",
       "      <td>None</td>\n",
       "    </tr>\n",
       "    <tr>\n",
       "      <th>1</th>\n",
       "      <td>[2017-12-15, 2017-12-22]</td>\n",
       "      <td>None</td>\n",
       "      <td>None</td>\n",
       "      <td>None</td>\n",
       "      <td>None</td>\n",
       "      <td>None</td>\n",
       "    </tr>\n",
       "    <tr>\n",
       "      <th>2</th>\n",
       "      <td>[2017-12-15, 2017-12-31]</td>\n",
       "      <td>[2018-01-01, 2018-01-31]</td>\n",
       "      <td>[2018-02-01, 2018-02-28]</td>\n",
       "      <td>[2018-03-01, 2018-03-31]</td>\n",
       "      <td>[2018-04-01, 2018-04-30]</td>\n",
       "      <td>[2018-05-01, 2018-05-22]</td>\n",
       "    </tr>\n",
       "  </tbody>\n",
       "</table>\n",
       "</div>"
      ],
      "text/plain": [
       "                          0                         1  \\\n",
       "0  [2017-12-15, 2017-12-31]  [2018-01-01, 2018-01-17]   \n",
       "1  [2017-12-15, 2017-12-22]                      None   \n",
       "2  [2017-12-15, 2017-12-31]  [2018-01-01, 2018-01-31]   \n",
       "\n",
       "                          2                         3  \\\n",
       "0                      None                      None   \n",
       "1                      None                      None   \n",
       "2  [2018-02-01, 2018-02-28]  [2018-03-01, 2018-03-31]   \n",
       "\n",
       "                          4                         5  \n",
       "0                      None                      None  \n",
       "1                      None                      None  \n",
       "2  [2018-04-01, 2018-04-30]  [2018-05-01, 2018-05-22]  "
      ]
     },
     "execution_count": 37,
     "metadata": {},
     "output_type": "execute_result"
    }
   ],
   "source": [
    "split"
   ]
  },
  {
   "cell_type": "code",
   "execution_count": 43,
   "metadata": {},
   "outputs": [
    {
     "data": {
      "text/html": [
       "<div>\n",
       "<style scoped>\n",
       "    .dataframe tbody tr th:only-of-type {\n",
       "        vertical-align: middle;\n",
       "    }\n",
       "\n",
       "    .dataframe tbody tr th {\n",
       "        vertical-align: top;\n",
       "    }\n",
       "\n",
       "    .dataframe thead th {\n",
       "        text-align: right;\n",
       "    }\n",
       "</style>\n",
       "<table border=\"1\" class=\"dataframe\">\n",
       "  <thead>\n",
       "    <tr style=\"text-align: right;\">\n",
       "      <th></th>\n",
       "      <th>Name</th>\n",
       "      <th>Start_time</th>\n",
       "      <th>End_time</th>\n",
       "      <th>0</th>\n",
       "      <th>1</th>\n",
       "      <th>2</th>\n",
       "      <th>3</th>\n",
       "      <th>4</th>\n",
       "      <th>5</th>\n",
       "    </tr>\n",
       "  </thead>\n",
       "  <tbody>\n",
       "    <tr>\n",
       "      <th>0</th>\n",
       "      <td>A</td>\n",
       "      <td>2017-12-15</td>\n",
       "      <td>2018-01-17</td>\n",
       "      <td>[2017-12-15, 2017-12-31]</td>\n",
       "      <td>[2018-01-01, 2018-01-17]</td>\n",
       "      <td>None</td>\n",
       "      <td>None</td>\n",
       "      <td>None</td>\n",
       "      <td>None</td>\n",
       "    </tr>\n",
       "    <tr>\n",
       "      <th>1</th>\n",
       "      <td>B</td>\n",
       "      <td>2017-12-15</td>\n",
       "      <td>2017-12-22</td>\n",
       "      <td>[2017-12-15, 2017-12-22]</td>\n",
       "      <td>None</td>\n",
       "      <td>None</td>\n",
       "      <td>None</td>\n",
       "      <td>None</td>\n",
       "      <td>None</td>\n",
       "    </tr>\n",
       "    <tr>\n",
       "      <th>2</th>\n",
       "      <td>C</td>\n",
       "      <td>2017-12-15</td>\n",
       "      <td>2018-05-22</td>\n",
       "      <td>[2017-12-15, 2017-12-31]</td>\n",
       "      <td>[2018-01-01, 2018-01-31]</td>\n",
       "      <td>[2018-02-01, 2018-02-28]</td>\n",
       "      <td>[2018-03-01, 2018-03-31]</td>\n",
       "      <td>[2018-04-01, 2018-04-30]</td>\n",
       "      <td>[2018-05-01, 2018-05-22]</td>\n",
       "    </tr>\n",
       "  </tbody>\n",
       "</table>\n",
       "</div>"
      ],
      "text/plain": [
       "  Name  Start_time    End_time                         0  \\\n",
       "0    A  2017-12-15  2018-01-17  [2017-12-15, 2017-12-31]   \n",
       "1    B  2017-12-15  2017-12-22  [2017-12-15, 2017-12-22]   \n",
       "2    C  2017-12-15  2018-05-22  [2017-12-15, 2017-12-31]   \n",
       "\n",
       "                          1                         2  \\\n",
       "0  [2018-01-01, 2018-01-17]                      None   \n",
       "1                      None                      None   \n",
       "2  [2018-01-01, 2018-01-31]  [2018-02-01, 2018-02-28]   \n",
       "\n",
       "                          3                         4  \\\n",
       "0                      None                      None   \n",
       "1                      None                      None   \n",
       "2  [2018-03-01, 2018-03-31]  [2018-04-01, 2018-04-30]   \n",
       "\n",
       "                          5  \n",
       "0                      None  \n",
       "1                      None  \n",
       "2  [2018-05-01, 2018-05-22]  "
      ]
     },
     "execution_count": 43,
     "metadata": {},
     "output_type": "execute_result"
    }
   ],
   "source": [
    "test = pd.concat([df, split], axis=1)\n",
    "test"
   ]
  },
  {
   "cell_type": "code",
   "execution_count": 49,
   "metadata": {},
   "outputs": [
    {
     "data": {
      "text/html": [
       "<div>\n",
       "<style scoped>\n",
       "    .dataframe tbody tr th:only-of-type {\n",
       "        vertical-align: middle;\n",
       "    }\n",
       "\n",
       "    .dataframe tbody tr th {\n",
       "        vertical-align: top;\n",
       "    }\n",
       "\n",
       "    .dataframe thead th {\n",
       "        text-align: right;\n",
       "    }\n",
       "</style>\n",
       "<table border=\"1\" class=\"dataframe\">\n",
       "  <thead>\n",
       "    <tr style=\"text-align: right;\">\n",
       "      <th></th>\n",
       "      <th>Name</th>\n",
       "      <th>variable</th>\n",
       "      <th>value</th>\n",
       "    </tr>\n",
       "  </thead>\n",
       "  <tbody>\n",
       "    <tr>\n",
       "      <th>0</th>\n",
       "      <td>A</td>\n",
       "      <td>Start_time</td>\n",
       "      <td>2017-12-15</td>\n",
       "    </tr>\n",
       "    <tr>\n",
       "      <th>3</th>\n",
       "      <td>A</td>\n",
       "      <td>End_time</td>\n",
       "      <td>2018-01-17</td>\n",
       "    </tr>\n",
       "    <tr>\n",
       "      <th>6</th>\n",
       "      <td>A</td>\n",
       "      <td>0</td>\n",
       "      <td>[2017-12-15, 2017-12-31]</td>\n",
       "    </tr>\n",
       "    <tr>\n",
       "      <th>9</th>\n",
       "      <td>A</td>\n",
       "      <td>1</td>\n",
       "      <td>[2018-01-01, 2018-01-17]</td>\n",
       "    </tr>\n",
       "    <tr>\n",
       "      <th>1</th>\n",
       "      <td>B</td>\n",
       "      <td>Start_time</td>\n",
       "      <td>2017-12-15</td>\n",
       "    </tr>\n",
       "    <tr>\n",
       "      <th>4</th>\n",
       "      <td>B</td>\n",
       "      <td>End_time</td>\n",
       "      <td>2017-12-22</td>\n",
       "    </tr>\n",
       "    <tr>\n",
       "      <th>7</th>\n",
       "      <td>B</td>\n",
       "      <td>0</td>\n",
       "      <td>[2017-12-15, 2017-12-22]</td>\n",
       "    </tr>\n",
       "    <tr>\n",
       "      <th>2</th>\n",
       "      <td>C</td>\n",
       "      <td>Start_time</td>\n",
       "      <td>2017-12-15</td>\n",
       "    </tr>\n",
       "    <tr>\n",
       "      <th>5</th>\n",
       "      <td>C</td>\n",
       "      <td>End_time</td>\n",
       "      <td>2018-05-22</td>\n",
       "    </tr>\n",
       "    <tr>\n",
       "      <th>8</th>\n",
       "      <td>C</td>\n",
       "      <td>0</td>\n",
       "      <td>[2017-12-15, 2017-12-31]</td>\n",
       "    </tr>\n",
       "    <tr>\n",
       "      <th>11</th>\n",
       "      <td>C</td>\n",
       "      <td>1</td>\n",
       "      <td>[2018-01-01, 2018-01-31]</td>\n",
       "    </tr>\n",
       "    <tr>\n",
       "      <th>14</th>\n",
       "      <td>C</td>\n",
       "      <td>2</td>\n",
       "      <td>[2018-02-01, 2018-02-28]</td>\n",
       "    </tr>\n",
       "    <tr>\n",
       "      <th>17</th>\n",
       "      <td>C</td>\n",
       "      <td>3</td>\n",
       "      <td>[2018-03-01, 2018-03-31]</td>\n",
       "    </tr>\n",
       "    <tr>\n",
       "      <th>20</th>\n",
       "      <td>C</td>\n",
       "      <td>4</td>\n",
       "      <td>[2018-04-01, 2018-04-30]</td>\n",
       "    </tr>\n",
       "    <tr>\n",
       "      <th>23</th>\n",
       "      <td>C</td>\n",
       "      <td>5</td>\n",
       "      <td>[2018-05-01, 2018-05-22]</td>\n",
       "    </tr>\n",
       "  </tbody>\n",
       "</table>\n",
       "</div>"
      ],
      "text/plain": [
       "   Name    variable                     value\n",
       "0     A  Start_time                2017-12-15\n",
       "3     A    End_time                2018-01-17\n",
       "6     A           0  [2017-12-15, 2017-12-31]\n",
       "9     A           1  [2018-01-01, 2018-01-17]\n",
       "1     B  Start_time                2017-12-15\n",
       "4     B    End_time                2017-12-22\n",
       "7     B           0  [2017-12-15, 2017-12-22]\n",
       "2     C  Start_time                2017-12-15\n",
       "5     C    End_time                2018-05-22\n",
       "8     C           0  [2017-12-15, 2017-12-31]\n",
       "11    C           1  [2018-01-01, 2018-01-31]\n",
       "14    C           2  [2018-02-01, 2018-02-28]\n",
       "17    C           3  [2018-03-01, 2018-03-31]\n",
       "20    C           4  [2018-04-01, 2018-04-30]\n",
       "23    C           5  [2018-05-01, 2018-05-22]"
      ]
     },
     "execution_count": 49,
     "metadata": {},
     "output_type": "execute_result"
    }
   ],
   "source": [
    "pd.melt(test, id_vars=['Name']).dropna().sort_values(by='Name')"
   ]
  }
 ],
 "metadata": {
  "kernelspec": {
   "display_name": "Python 3.10.4 64-bit",
   "language": "python",
   "name": "python3"
  },
  "language_info": {
   "codemirror_mode": {
    "name": "ipython",
    "version": 3
   },
   "file_extension": ".py",
   "mimetype": "text/x-python",
   "name": "python",
   "nbconvert_exporter": "python",
   "pygments_lexer": "ipython3",
   "version": "3.10.4"
  },
  "orig_nbformat": 4,
  "vscode": {
   "interpreter": {
    "hash": "78d439ba2627215c8a9c660e3d92af69343d4ccfa9ad485efc030b2c3ae51eaf"
   }
  }
 },
 "nbformat": 4,
 "nbformat_minor": 2
}
